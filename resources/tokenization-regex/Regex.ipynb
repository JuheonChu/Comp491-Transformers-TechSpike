{
  "nbformat": 4,
  "nbformat_minor": 0,
  "metadata": {
    "colab": {
      "provenance": [],
      "collapsed_sections": [
        "uiL2nmB1WAQd",
        "4OrO-6rNLLbl"
      ]
    },
    "kernelspec": {
      "name": "python3",
      "display_name": "Python 3"
    }
  },
  "cells": [
    {
      "cell_type": "markdown",
      "metadata": {
        "id": "uiL2nmB1WAQd"
      },
      "source": [
        "## <font color='#0abde3' size = 12>  **Regular Expression** \n",
        "*  *Compare Regex re.split()*\n",
        "*   *Python's split() without using re library*\n",
        "\n",
        "\n",
        "<font/>"
      ]
    },
    {
      "cell_type": "code",
      "metadata": {
        "id": "FqPOd3QgDMHK"
      },
      "source": [
        "sentence = \"Adia's kind. The genius finished research,he is smart!\""
      ],
      "execution_count": 37,
      "outputs": []
    },
    {
      "cell_type": "code",
      "metadata": {
        "id": "K04Cup4c-xTG"
      },
      "source": [
        "result = sentence.split() "
      ],
      "execution_count": 38,
      "outputs": []
    },
    {
      "cell_type": "code",
      "metadata": {
        "id": "RPrI_k3v-zTL",
        "colab": {
          "base_uri": "https://localhost:8080/"
        },
        "outputId": "dac99d8b-3dec-48c8-8f5e-cb1c2cc534cc"
      },
      "source": [
        "print(result)"
      ],
      "execution_count": 39,
      "outputs": [
        {
          "output_type": "stream",
          "name": "stdout",
          "text": [
            "[\"Adia's\", 'kind.', 'The', 'genius', 'finished', 'research,he', 'is', 'smart!']\n"
          ]
        }
      ]
    },
    {
      "cell_type": "code",
      "metadata": {
        "id": "okoqoDT-Ehet"
      },
      "source": [
        "sentence = \"John will have a Ph.D. Adia's genius. Phil can run faster than Lionel Messi!\""
      ],
      "execution_count": 40,
      "outputs": []
    },
    {
      "cell_type": "code",
      "metadata": {
        "id": "nON6TjVg_Lh2",
        "colab": {
          "base_uri": "https://localhost:8080/"
        },
        "outputId": "83f23769-73a9-4e51-e625-76ba76aa4b04"
      },
      "source": [
        "result = sentence.split(\". \")\n",
        "print(result)"
      ],
      "execution_count": 41,
      "outputs": [
        {
          "output_type": "stream",
          "name": "stdout",
          "text": [
            "['John will have a Ph.D', \"Adia's genius\", 'Phil can run faster than Lionel Messi!']\n"
          ]
        }
      ]
    },
    {
      "cell_type": "markdown",
      "metadata": {
        "id": "ZQlt1TFkEvjp"
      },
      "source": [
        "<font color= #d8dfeb > Python’s split(): separator that can be used at a time, without considering punctuation as a separate token.\n",
        "<font/> \n",
        "\n",
        "\n",
        "\n"
      ]
    },
    {
      "cell_type": "markdown",
      "metadata": {
        "id": "3k6lXCc7Wuzi"
      },
      "source": [
        "<font color='#d8dfeb'> Library: *re* package  <font/> <br/>\n",
        "\n"
      ]
    },
    {
      "cell_type": "code",
      "metadata": {
        "id": "9cdy8pDAAqrH"
      },
      "source": [
        "import re # import re package"
      ],
      "execution_count": 42,
      "outputs": []
    },
    {
      "cell_type": "code",
      "metadata": {
        "id": "-yZ5sZgCA6sx"
      },
      "source": [
        "txt = \"one+two&three-four five\" "
      ],
      "execution_count": 43,
      "outputs": []
    },
    {
      "cell_type": "code",
      "metadata": {
        "id": "ksM_0kedBLBb",
        "colab": {
          "base_uri": "https://localhost:8080/"
        },
        "outputId": "2ff2eb23-62ad-4fa8-b1cd-84326847e797"
      },
      "source": [
        "result = print(re.split('\\W+',txt))"
      ],
      "execution_count": 44,
      "outputs": [
        {
          "output_type": "stream",
          "name": "stdout",
          "text": [
            "['one', 'two', 'three', 'four', 'five']\n"
          ]
        }
      ]
    },
    {
      "cell_type": "markdown",
      "metadata": {
        "id": "wqxx6J7fLIzl"
      },
      "source": [
        "<font color= #d8dfeb > *re.split()* : ReGex method to replace strings:<font/> "
      ]
    },
    {
      "cell_type": "markdown",
      "metadata": {
        "id": "0n9YN5fbo2Kr"
      },
      "source": [
        "<font color='#0abde3'> **w+**</font> \n",
        "**'+:'** means any number of times - keep searching <br/> \n",
        "\n",
        "*   **“\\w”**: alphanumeric (letters, numbers) and underscore (_).\n",
        "*   [\\w’]+: the code should find all the alphanumeric characters. \n",
        "\n",
        "\n",
        "\n",
        "\n"
      ]
    },
    {
      "cell_type": "markdown",
      "metadata": {
        "id": "6XmgVU80jqZW"
      },
      "source": [
        "<font color='#fd79a8'>  **Notes** </font>\n",
        "*   Regular expressions use the backslash character \\ to indicate special forms.\n",
        "*   <font color= '#d8dfeb'> Enclose a string with [ ] to match any single character in it. It can be used to split by multiple different characters. <font/> "
      ]
    },
    {
      "cell_type": "code",
      "metadata": {
        "id": "Iy5Y2_huCoSu"
      },
      "source": [
        "num = 'one-two-three#four&five'"
      ],
      "execution_count": 45,
      "outputs": []
    },
    {
      "cell_type": "code",
      "metadata": {
        "id": "OTYpItgmCvtE",
        "colab": {
          "base_uri": "https://localhost:8080/"
        },
        "outputId": "c24fd74b-5d04-45bf-cc62-fc945b7d3a2b"
      },
      "source": [
        "result = print(re.split('[-+&#]', num))"
      ],
      "execution_count": 46,
      "outputs": [
        {
          "output_type": "stream",
          "name": "stdout",
          "text": [
            "['one', 'two', 'three', 'four', 'five']\n"
          ]
        }
      ]
    },
    {
      "cell_type": "markdown",
      "metadata": {
        "id": "Y-QlPsHF-1F6"
      },
      "source": [
        "# <font color= #fd79a8 > ***re.sub()***: <font color = '#d8dfeb'>replace strings by returning the first occurrence that matches the specified pattern</font><font/> \n",
        "\n"
      ]
    },
    {
      "cell_type": "code",
      "metadata": {
        "id": "6prLy0JI-yAH",
        "colab": {
          "base_uri": "https://localhost:8080/"
        },
        "outputId": "2fb988f7-5663-4d1d-ba31-657dbbf2eebb"
      },
      "source": [
        "substitute = 'one and two and three and four and five'\n",
        "result = re.sub(' ','-',substitute)\n",
        "print(result)"
      ],
      "execution_count": 47,
      "outputs": [
        {
          "output_type": "stream",
          "name": "stdout",
          "text": [
            "one-and-two-and-three-and-four-and-five\n"
          ]
        }
      ]
    },
    {
      "cell_type": "markdown",
      "metadata": {
        "id": "4OrO-6rNLLbl"
      },
      "source": [
        "# <font color= #fd79a8 > ***re.search()***: <font color = '#d8dfeb'>search strings</font><font/> \n",
        "*   takes *Pattern* and *String* to scan from the input texts.\n"
      ]
    },
    {
      "cell_type": "code",
      "metadata": {
        "id": "iq_-UOf0IhZr",
        "colab": {
          "base_uri": "https://localhost:8080/"
        },
        "outputId": "1d2c7679-7ad4-46c9-b6cb-9352eb9609ef"
      },
      "source": [
        "patternwanted = ['Transformers', 'advanced', 'Genius', 'Adia']\n",
        "string = 'Genius Transformers for advanced NLP students, with practical applications.'\n",
        "\n",
        "for pattern in patternwanted:\n",
        "  print ('Looking for \"%s\" in \"%s\" :\\n' % (pattern, string), end=' ')\n",
        "\n",
        "  if re.search(pattern, string):\n",
        "    print('yayy search successful!!:\\n ')\n",
        "  else: \n",
        "    print('oh no :( we did not find anything')"
      ],
      "execution_count": 48,
      "outputs": [
        {
          "output_type": "stream",
          "name": "stdout",
          "text": [
            "Looking for \"Transformers\" in \"Genius Transformers for advanced NLP students, with practical applications.\" :\n",
            " yayy search successful!!:\n",
            " \n",
            "Looking for \"advanced\" in \"Genius Transformers for advanced NLP students, with practical applications.\" :\n",
            " yayy search successful!!:\n",
            " \n",
            "Looking for \"Genius\" in \"Genius Transformers for advanced NLP students, with practical applications.\" :\n",
            " yayy search successful!!:\n",
            " \n",
            "Looking for \"Adia\" in \"Genius Transformers for advanced NLP students, with practical applications.\" :\n",
            " oh no :( we did not find anything\n"
          ]
        }
      ]
    },
    {
      "cell_type": "markdown",
      "metadata": {
        "id": "uK0TfZP5Bq0W"
      },
      "source": [
        "# <font color= #fd79a8 > ***re.findall()***: <font color = '#d8dfeb'>extract all the information using regular expression by iterating all the lines of the file and return all the matched ones.</font></font>\n",
        "\n"
      ]
    },
    {
      "cell_type": "code",
      "metadata": {
        "id": "GDqgwP0tLPUk",
        "colab": {
          "base_uri": "https://localhost:8080/"
        },
        "outputId": "f582840f-764e-4228-8006-ca0ed316838b"
      },
      "source": [
        "contact_details = \"Adia Wu 789-7899 wua@dickinson.edu John Chu 1908/MAY/06 chuj@dickinson.edu 2030/OCT/13 genius@dickinson.edu John MacCormick +7179999999\"\n",
        "emailinfo = re.findall(r'[\\w\\.-]+@[\\w\\.-]+', contact_details)\n",
        "\n",
        "for email in emailinfo:\n",
        "  print(email)\n"
      ],
      "execution_count": 49,
      "outputs": [
        {
          "output_type": "stream",
          "name": "stdout",
          "text": [
            "wua@dickinson.edu\n",
            "chuj@dickinson.edu\n",
            "genius@dickinson.edu\n"
          ]
        }
      ]
    }
  ]
}