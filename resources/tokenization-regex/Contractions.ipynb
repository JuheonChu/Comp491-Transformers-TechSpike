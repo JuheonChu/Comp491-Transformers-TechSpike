{
  "nbformat": 4,
  "nbformat_minor": 0,
  "metadata": {
    "colab": {
      "provenance": [],
      "collapsed_sections": []
    },
    "kernelspec": {
      "name": "python3",
      "display_name": "Python 3"
    },
    "accelerator": "GPU"
  },
  "cells": [
    {
      "cell_type": "markdown",
      "metadata": {
        "id": "uiL2nmB1WAQd"
      },
      "source": [
        "# <font color='#cf412b'> **Tokenization Methods Using NLTK**<font/>"
      ]
    },
    {
      "cell_type": "code",
      "metadata": {
        "id": "TKFaFq4vrvH4"
      },
      "source": [
        "import nltk #importing nltk package "
      ],
      "execution_count": 7,
      "outputs": []
    },
    {
      "cell_type": "code",
      "metadata": {
        "id": "698RpQucr79J",
        "colab": {
          "base_uri": "https://localhost:8080/"
        },
        "outputId": "31b8fcf4-51ea-43b5-9a6a-2f1b6245891c"
      },
      "source": [
        "from nltk.tokenize import word_tokenize \n",
        "nltk.download('punkt')"
      ],
      "execution_count": 8,
      "outputs": [
        {
          "output_type": "stream",
          "name": "stderr",
          "text": [
            "[nltk_data] Downloading package punkt to /root/nltk_data...\n",
            "[nltk_data]   Package punkt is already up-to-date!\n"
          ]
        },
        {
          "output_type": "execute_result",
          "data": {
            "text/plain": [
              "True"
            ]
          },
          "metadata": {},
          "execution_count": 8
        }
      ]
    },
    {
      "cell_type": "markdown",
      "metadata": {
        "id": "oGsxrI6fQVCC"
      },
      "source": [
        "# <font color='#cf412b'> Contractions<br>\n",
        "[Contraction Github Source](https://github.com/kootenpv/contractions) <br> "
      ]
    },
    {
      "cell_type": "code",
      "metadata": {
        "id": "nm6Sf7UGQUCA",
        "colab": {
          "base_uri": "https://localhost:8080/"
        },
        "outputId": "165d77d1-344f-4530-983d-ca905e15d4fc"
      },
      "source": [
        "!pip install contractions"
      ],
      "execution_count": 9,
      "outputs": [
        {
          "output_type": "stream",
          "name": "stdout",
          "text": [
            "Looking in indexes: https://pypi.org/simple, https://us-python.pkg.dev/colab-wheels/public/simple/\n",
            "Requirement already satisfied: contractions in /usr/local/lib/python3.7/dist-packages (0.1.72)\n",
            "Requirement already satisfied: textsearch>=0.0.21 in /usr/local/lib/python3.7/dist-packages (from contractions) (0.0.24)\n",
            "Requirement already satisfied: pyahocorasick in /usr/local/lib/python3.7/dist-packages (from textsearch>=0.0.21->contractions) (1.4.4)\n",
            "Requirement already satisfied: anyascii in /usr/local/lib/python3.7/dist-packages (from textsearch>=0.0.21->contractions) (0.3.1)\n"
          ]
        }
      ]
    },
    {
      "cell_type": "code",
      "metadata": {
        "colab": {
          "base_uri": "https://localhost:8080/"
        },
        "id": "c9Uet791Qn5R",
        "outputId": "527216dc-ad3c-4e2a-bdd8-ce5ed50d8d80"
      },
      "source": [
        "import contractions\n",
        "contracted_article = '''John's shooting for an opportunity. Jack didn't go for it because he was scared. \n",
        "          They'd definitely try applying next Monday. They're nervous, they'll be paranoid with it.\n",
        "          That's the way they are getting immune to those opportunities!! '''\n",
        "  \n",
        "expanded_words = []    \n",
        "for word in contracted_article.split():\n",
        "  expanded_words.append(contractions.fix(word))   \n",
        "    \n",
        "expanded_clitics = ' '.join(expanded_words)\n",
        "print('Text with contractions: ' + contracted_article)\n",
        "print('Expanded Clitics: ' + expanded_clitics)"
      ],
      "execution_count": 10,
      "outputs": [
        {
          "output_type": "stream",
          "name": "stdout",
          "text": [
            "Text with contractions: John's shooting for an opportunity. Jack didn't go for it because he was scared. \n",
            "          They'd definitely try applying next Monday. They're nervous, they'll be paranoid with it.\n",
            "          That's the way they are getting immune to those opportunities!! \n",
            "Expanded Clitics: John's shooting for an opportunity. Jack did not go for it because he was scared. They would definitely try applying next Monday. They are nervous, they will be paranoid with it. That is the way they are getting immune to those opportunities!!\n"
          ]
        }
      ]
    },
    {
      "cell_type": "markdown",
      "source": [
        "# <font color='#cf412b'> **Tokenize contracted contexts** <br>"
      ],
      "metadata": {
        "id": "gm1rmiE1kGkr"
      }
    },
    {
      "cell_type": "code",
      "metadata": {
        "colab": {
          "base_uri": "https://localhost:8080/"
        },
        "id": "4mIQfkvwTyfC",
        "outputId": "8b28e035-1a56-41a3-f0c2-981efd25761a"
      },
      "source": [
        "word_tokenize(contracted_article)"
      ],
      "execution_count": 11,
      "outputs": [
        {
          "output_type": "execute_result",
          "data": {
            "text/plain": [
              "['John',\n",
              " \"'s\",\n",
              " 'shooting',\n",
              " 'for',\n",
              " 'an',\n",
              " 'opportunity',\n",
              " '.',\n",
              " 'Jack',\n",
              " 'did',\n",
              " \"n't\",\n",
              " 'go',\n",
              " 'for',\n",
              " 'it',\n",
              " 'because',\n",
              " 'he',\n",
              " 'was',\n",
              " 'scared',\n",
              " '.',\n",
              " 'They',\n",
              " \"'d\",\n",
              " 'definitely',\n",
              " 'try',\n",
              " 'applying',\n",
              " 'next',\n",
              " 'Monday',\n",
              " '.',\n",
              " 'They',\n",
              " \"'re\",\n",
              " 'nervous',\n",
              " ',',\n",
              " 'they',\n",
              " \"'ll\",\n",
              " 'be',\n",
              " 'paranoid',\n",
              " 'with',\n",
              " 'it',\n",
              " '.',\n",
              " 'That',\n",
              " \"'s\",\n",
              " 'the',\n",
              " 'way',\n",
              " 'they',\n",
              " 'are',\n",
              " 'getting',\n",
              " 'immune',\n",
              " 'to',\n",
              " 'those',\n",
              " 'opportunities',\n",
              " '!',\n",
              " '!']"
            ]
          },
          "metadata": {},
          "execution_count": 11
        }
      ]
    },
    {
      "cell_type": "markdown",
      "source": [
        "# <font color='#cf412b'> **Expand the clitics in the contexts**<br>"
      ],
      "metadata": {
        "id": "-bXEBg72kWyv"
      }
    },
    {
      "cell_type": "code",
      "metadata": {
        "colab": {
          "base_uri": "https://localhost:8080/"
        },
        "id": "IfGWNPwrUDyM",
        "outputId": "c71525d2-b94b-419c-ed98-c5ee6843644b"
      },
      "source": [
        "word_tokenize(expanded_clitics)"
      ],
      "execution_count": 12,
      "outputs": [
        {
          "output_type": "execute_result",
          "data": {
            "text/plain": [
              "['John',\n",
              " \"'s\",\n",
              " 'shooting',\n",
              " 'for',\n",
              " 'an',\n",
              " 'opportunity',\n",
              " '.',\n",
              " 'Jack',\n",
              " 'did',\n",
              " 'not',\n",
              " 'go',\n",
              " 'for',\n",
              " 'it',\n",
              " 'because',\n",
              " 'he',\n",
              " 'was',\n",
              " 'scared',\n",
              " '.',\n",
              " 'They',\n",
              " 'would',\n",
              " 'definitely',\n",
              " 'try',\n",
              " 'applying',\n",
              " 'next',\n",
              " 'Monday',\n",
              " '.',\n",
              " 'They',\n",
              " 'are',\n",
              " 'nervous',\n",
              " ',',\n",
              " 'they',\n",
              " 'will',\n",
              " 'be',\n",
              " 'paranoid',\n",
              " 'with',\n",
              " 'it',\n",
              " '.',\n",
              " 'That',\n",
              " 'is',\n",
              " 'the',\n",
              " 'way',\n",
              " 'they',\n",
              " 'are',\n",
              " 'getting',\n",
              " 'immune',\n",
              " 'to',\n",
              " 'those',\n",
              " 'opportunities',\n",
              " '!',\n",
              " '!']"
            ]
          },
          "metadata": {},
          "execution_count": 12
        }
      ]
    }
  ]
}