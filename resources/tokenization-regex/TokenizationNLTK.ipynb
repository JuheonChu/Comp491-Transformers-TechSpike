{
  "nbformat": 4,
  "nbformat_minor": 0,
  "metadata": {
    "colab": {
      "provenance": [],
      "collapsed_sections": []
    },
    "kernelspec": {
      "name": "python3",
      "display_name": "Python 3"
    }
  },
  "cells": [
    {
      "cell_type": "markdown",
      "metadata": {
        "id": "uiL2nmB1WAQd"
      },
      "source": [
        "# <font color='#cf412b'> **Tokenization Methods** <font/>\n",
        "\n",
        "*   word tokenization: split the words in the sentence\n",
        "*   sentence tokenization: split the sentences in the paragraph\n",
        "\n"
      ]
    },
    {
      "cell_type": "code",
      "metadata": {
        "id": "TKFaFq4vrvH4"
      },
      "source": [
        "import nltk #importing nltk package "
      ],
      "execution_count": 2,
      "outputs": []
    },
    {
      "cell_type": "code",
      "metadata": {
        "id": "698RpQucr79J",
        "colab": {
          "base_uri": "https://localhost:8080/"
        },
        "outputId": "4cd4e7d9-2946-4c3b-b229-e30357e2d2e6"
      },
      "source": [
        "from nltk.tokenize import word_tokenize \n",
        "nltk.download('punkt')"
      ],
      "execution_count": 3,
      "outputs": [
        {
          "output_type": "stream",
          "name": "stderr",
          "text": [
            "[nltk_data] Downloading package punkt to /root/nltk_data...\n",
            "[nltk_data]   Unzipping tokenizers/punkt.zip.\n"
          ]
        },
        {
          "output_type": "execute_result",
          "data": {
            "text/plain": [
              "True"
            ]
          },
          "metadata": {},
          "execution_count": 3
        }
      ]
    },
    {
      "cell_type": "markdown",
      "metadata": {
        "id": "NImBGS2cvHgO"
      },
      "source": [
        "<font color= #cf412b > **word_tokenization()** <font/> \n",
        "\n",
        "\n",
        "\n",
        "\n",
        "\n"
      ]
    },
    {
      "cell_type": "code",
      "metadata": {
        "id": "C2_BTyTCsbHN"
      },
      "source": [
        "sentence = \"She's a Korean citizen. They are very academic.\""
      ],
      "execution_count": 4,
      "outputs": []
    },
    {
      "cell_type": "code",
      "metadata": {
        "id": "js5ny_-UsgJ3",
        "colab": {
          "base_uri": "https://localhost:8080/"
        },
        "outputId": "73aed9bf-824e-4a9f-bf76-9d8265d9c85e"
      },
      "source": [
        "word_tokenize(sentence)"
      ],
      "execution_count": 5,
      "outputs": [
        {
          "output_type": "execute_result",
          "data": {
            "text/plain": [
              "['She',\n",
              " \"'s\",\n",
              " 'a',\n",
              " 'Korean',\n",
              " 'citizen',\n",
              " '.',\n",
              " 'They',\n",
              " 'are',\n",
              " 'very',\n",
              " 'academic',\n",
              " '.']"
            ]
          },
          "metadata": {},
          "execution_count": 5
        }
      ]
    },
    {
      "cell_type": "markdown",
      "metadata": {
        "id": "ZQlt1TFkEvjp"
      },
      "source": [
        "<font color= #cf412b > **sent_tokenization()** <font/><br/>\n",
        "[Example Sentence Source](https://www.nps.gov/wori/index.htm)"
      ]
    },
    {
      "cell_type": "code",
      "metadata": {
        "id": "CwlgelVzwvBg"
      },
      "source": [
        "article = '''Women’s Rights National Historical Park tells the story of the first Women’s Rights Convention held in Seneca Falls, NY on July 19-20,1848.  It is a story of struggles for civil rights, human rights, and equality, global struggles that continue today. '''"
      ],
      "execution_count": 6,
      "outputs": []
    },
    {
      "cell_type": "code",
      "metadata": {
        "id": "oEJq6wS4s1L7"
      },
      "source": [
        "from nltk.tokenize import sent_tokenize"
      ],
      "execution_count": 7,
      "outputs": []
    },
    {
      "cell_type": "code",
      "metadata": {
        "id": "lLPPgGrvtCHU",
        "colab": {
          "base_uri": "https://localhost:8080/"
        },
        "outputId": "925bcd54-049c-4b2f-d4c5-3bc75e9417d9"
      },
      "source": [
        "sent_tokenize(article)"
      ],
      "execution_count": 8,
      "outputs": [
        {
          "output_type": "execute_result",
          "data": {
            "text/plain": [
              "['Women’s Rights National Historical Park tells the story of the first Women’s Rights Convention held in Seneca Falls, NY on July 19-20,1848.',\n",
              " 'It is a story of struggles for civil rights, human rights, and equality, global struggles that continue today.']"
            ]
          },
          "metadata": {},
          "execution_count": 8
        }
      ]
    }
  ]
}