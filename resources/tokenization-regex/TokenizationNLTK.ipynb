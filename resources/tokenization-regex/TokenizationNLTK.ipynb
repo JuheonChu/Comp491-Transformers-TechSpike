{
  "nbformat": 4,
  "nbformat_minor": 0,
  "metadata": {
    "colab": {
      "provenance": [],
      "collapsed_sections": []
    },
    "kernelspec": {
      "name": "python3",
      "display_name": "Python 3"
    }
  },
  "cells": [
    {
      "cell_type": "markdown",
      "metadata": {
        "id": "uiL2nmB1WAQd"
      },
      "source": [
        "# <font color='#cf412b'> **Tokenization Methods** <font/>\n",
        "\n",
        "*   word tokenization: split the words in the sentence\n",
        "*   sentence tokenization: split the sentences in the paragraph\n",
        "\n"
      ]
    },
    {
      "cell_type": "code",
      "metadata": {
        "id": "TKFaFq4vrvH4"
      },
      "source": [
        "import nltk #importing nltk package "
      ],
      "execution_count": 1,
      "outputs": []
    },
    {
      "cell_type": "code",
      "metadata": {
        "id": "698RpQucr79J",
        "colab": {
          "base_uri": "https://localhost:8080/"
        },
        "outputId": "c488b051-8599-49bd-cf3a-d74917548fd0"
      },
      "source": [
        "from nltk.tokenize import word_tokenize \n",
        "nltk.download('punkt')"
      ],
      "execution_count": 2,
      "outputs": [
        {
          "output_type": "stream",
          "name": "stderr",
          "text": [
            "[nltk_data] Downloading package punkt to /root/nltk_data...\n",
            "[nltk_data]   Unzipping tokenizers/punkt.zip.\n"
          ]
        },
        {
          "output_type": "execute_result",
          "data": {
            "text/plain": [
              "True"
            ]
          },
          "metadata": {},
          "execution_count": 2
        }
      ]
    },
    {
      "cell_type": "markdown",
      "metadata": {
        "id": "NImBGS2cvHgO"
      },
      "source": [
        "<font color= #cf412b > **word_tokenization()** <font/> \n",
        "\n",
        "\n",
        "\n",
        "\n",
        "\n"
      ]
    },
    {
      "cell_type": "code",
      "metadata": {
        "id": "C2_BTyTCsbHN"
      },
      "source": [
        "sentence = \"He's a German Shepherd. They are some of the smartest dogs!\""
      ],
      "execution_count": 3,
      "outputs": []
    },
    {
      "cell_type": "code",
      "metadata": {
        "id": "js5ny_-UsgJ3",
        "colab": {
          "base_uri": "https://localhost:8080/"
        },
        "outputId": "45c9ba16-21db-41de-a2f0-a5b7270056bf"
      },
      "source": [
        "word_tokenize(sentence)"
      ],
      "execution_count": 4,
      "outputs": [
        {
          "output_type": "execute_result",
          "data": {
            "text/plain": [
              "['He',\n",
              " \"'s\",\n",
              " 'a',\n",
              " 'German',\n",
              " 'Shepherd',\n",
              " '.',\n",
              " 'They',\n",
              " 'are',\n",
              " 'some',\n",
              " 'of',\n",
              " 'the',\n",
              " 'smartest',\n",
              " 'dogs',\n",
              " '!']"
            ]
          },
          "metadata": {},
          "execution_count": 4
        }
      ]
    },
    {
      "cell_type": "markdown",
      "metadata": {
        "id": "ZQlt1TFkEvjp"
      },
      "source": [
        "<font color= #cf412b > **sent_tokenization()** <font/> "
      ]
    },
    {
      "cell_type": "code",
      "metadata": {
        "id": "CwlgelVzwvBg"
      },
      "source": [
        "article = '''Did you know that World War 1 brought German Shepherds to the Western Hemisphere? Rin Tin Tin was a German Shepherd rescued from WWI. They are some of the smartest dogs!'''"
      ],
      "execution_count": 5,
      "outputs": []
    },
    {
      "cell_type": "code",
      "metadata": {
        "id": "oEJq6wS4s1L7"
      },
      "source": [
        "from nltk.tokenize import sent_tokenize"
      ],
      "execution_count": 6,
      "outputs": []
    },
    {
      "cell_type": "code",
      "metadata": {
        "id": "lLPPgGrvtCHU",
        "colab": {
          "base_uri": "https://localhost:8080/"
        },
        "outputId": "d49c8621-8940-4b46-c7fa-b244fba67d57"
      },
      "source": [
        "sent_tokenize(article)"
      ],
      "execution_count": 7,
      "outputs": [
        {
          "output_type": "execute_result",
          "data": {
            "text/plain": [
              "['Did you know that World War 1 brought German Shepherds to the Western Hemisphere?',\n",
              " 'Rin Tin Tin was a German Shepherd rescued from WWI.',\n",
              " 'They are some of the smartest dogs!']"
            ]
          },
          "metadata": {},
          "execution_count": 7
        }
      ]
    }
  ]
}